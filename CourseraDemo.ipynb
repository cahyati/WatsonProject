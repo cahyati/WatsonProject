{
    "cells": [
        {
            "cell_type": "markdown",
            "metadata": {
                "collapsed": true
            },
            "source": "# My Jupyter Notebook on IBM Data Science Experience"
        },
        {
            "cell_type": "markdown",
            "metadata": {},
            "source": "**Cahya**  \nSolution Specialist IoT & AI"
        },
        {
            "cell_type": "markdown",
            "metadata": {},
            "source": "_I'm interested in data science because it is related to my work_"
        },
        {
            "cell_type": "markdown",
            "metadata": {},
            "source": "### Calculate the sum 1 plus 1"
        },
        {
            "cell_type": "code",
            "execution_count": 7,
            "metadata": {},
            "outputs": [
                {
                    "data": {
                        "text/plain": "2"
                    },
                    "execution_count": 7,
                    "metadata": {},
                    "output_type": "execute_result"
                }
            ],
            "source": "1+1"
        },
        {
            "cell_type": "markdown",
            "metadata": {},
            "source": "***Horizontal Line***"
        },
        {
            "cell_type": "markdown",
            "metadata": {},
            "source": "- Bullet list 1\n- Bullet list 2"
        },
        {
            "cell_type": "markdown",
            "metadata": {},
            "source": "1. Number list 1\n1. Number list 2"
        },
        {
            "cell_type": "markdown",
            "metadata": {},
            "source": "Table"
        },
        {
            "cell_type": "markdown",
            "metadata": {},
            "source": "| This | is   |\n|------|------|\n|   a  | table|"
        },
        {
            "cell_type": "markdown",
            "metadata": {},
            "source": "### Hyperlinks\nMy Medium:  [AI Model Deployment on Things (AIoT)](https://medium.com/@cahyati2d/ai-model-deployment-on-things-aiot-2211f6989c75)"
        },
        {
            "cell_type": "markdown",
            "metadata": {},
            "source": "### Images\n<img src=\"https://cdn.antratek.nl/media/product/2bb/nvidia-jetson-tx2-development-kit-945-82771-0005-000-6a7.jpg\">"
        },
        {
            "cell_type": "markdown",
            "metadata": {},
            "source": "### code/syntax highlighting\n```python\n>>>print('Hello World')\n```"
        },
        {
            "cell_type": "markdown",
            "metadata": {},
            "source": ">blocked quotes 1\n<blockquote>blocked quotes 2</blockquote>"
        },
        {
            "cell_type": "markdown",
            "metadata": {},
            "source": "~~strikethrough~~"
        },
        {
            "cell_type": "code",
            "execution_count": null,
            "metadata": {},
            "outputs": [],
            "source": ""
        }
    ],
    "metadata": {
        "kernelspec": {
            "display_name": "Python 3.6",
            "language": "python",
            "name": "python3"
        },
        "language_info": {
            "codemirror_mode": {
                "name": "ipython",
                "version": 3
            },
            "file_extension": ".py",
            "mimetype": "text/x-python",
            "name": "python",
            "nbconvert_exporter": "python",
            "pygments_lexer": "ipython3",
            "version": "3.6.9"
        }
    },
    "nbformat": 4,
    "nbformat_minor": 1
}